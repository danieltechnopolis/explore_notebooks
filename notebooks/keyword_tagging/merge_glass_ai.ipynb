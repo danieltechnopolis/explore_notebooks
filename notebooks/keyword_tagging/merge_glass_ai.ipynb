{
 "cells": [
  {
   "cell_type": "code",
   "execution_count": null,
   "id": "1ed17e44",
   "metadata": {},
   "outputs": [],
   "source": [
    "import os \n",
    "from dotenv import load_dotenv\n",
    "import pandas as pd\n",
    "\n",
    "\n",
    "import matplotlib.pyplot as plt\n",
    "\n",
    "\n"
   ]
  },
  {
   "cell_type": "code",
   "execution_count": null,
   "id": "253c29ae",
   "metadata": {},
   "outputs": [],
   "source": [
    "load_dotenv()\n",
    "DATA_PATH = os.getenv(\"DATA_DIR\")\n",
    "print(f\"DATA_PATH: {DATA_PATH}\")\n"
   ]
  },
  {
   "cell_type": "code",
   "execution_count": null,
   "id": "5d4d031f",
   "metadata": {},
   "outputs": [],
   "source": [
    "glassAI_df = pd.read_csv(DATA_PATH + \"/glassAI_data.csv\") \n",
    "crunchbase_df = pd.read_csv(DATA_PATH + \"/processed/final_dataset.csv\")\n",
    "print(crunchbase_df.shape, glassAI_df.shape)"
   ]
  },
  {
   "cell_type": "code",
   "execution_count": null,
   "id": "0d1a3e54",
   "metadata": {},
   "outputs": [],
   "source": [
    "companies_df = pd.read_csv(DATA_PATH + \"/raw/cb_net0_companies_concat.csv\",  # type: ignore\n",
    "    usecols=['org_ID', 'cb_url','short_description', 'description'],\n",
    "    dtype={'org_ID': 'string', 'cb_url': 'string', 'short_description': 'string', 'description': 'string'},\n",
    "    index_col=False)\n",
    "\n",
    "\n",
    "print(companies_df.shape)"
   ]
  },
  {
   "cell_type": "code",
   "execution_count": null,
   "id": "64a1a706",
   "metadata": {},
   "outputs": [],
   "source": [
    "crunchbase_df = crunchbase_df.merge(\n",
    "    companies_df[['org_ID', 'cb_url']],\n",
    "    left_on='org_ID',\n",
    "    right_on='org_ID',\n",
    "    how='left'\n",
    ")"
   ]
  },
  {
   "cell_type": "code",
   "execution_count": null,
   "id": "c913e2d2",
   "metadata": {},
   "outputs": [],
   "source": [
    "print(crunchbase_df.shape)"
   ]
  },
  {
   "cell_type": "code",
   "execution_count": null,
   "id": "2fa8c222",
   "metadata": {},
   "outputs": [],
   "source": [
    "def clean_str(s):\n",
    "    return (\n",
    "        s.astype(str)\n",
    "         .str.lower()\n",
    "         .str.strip()\n",
    "         .str.replace(r'[^\\w\\s]', '', regex=True)  \n",
    "         .str.replace(r'\\s+', ' ', regex=True)     \n",
    "         .fillna('')\n",
    "    )\n",
    "\n",
    "glassAI_df = glassAI_df.rename(columns={'name': 'organisation_name'})\n",
    "glassAI_df['organisation_name'] = clean_str(glassAI_df['organisation_name'])\n",
    "crunchbase_df['organisation_name'] = clean_str(crunchbase_df['organisation_name'])\n",
    "\n",
    "glassAI_df = glassAI_df.drop_duplicates(subset='id_organization')\n",
    "\n",
    "\n",
    "\n"
   ]
  },
  {
   "cell_type": "code",
   "execution_count": null,
   "id": "45a4a581",
   "metadata": {},
   "outputs": [],
   "source": [
    "glassAI_df = glassAI_df.rename(columns={'name': 'organisation_name'})\n",
    "glassAI_df = glassAI_df.rename(columns={'crunchbase_url': 'cb_url'})\n",
    "glassAI_df = glassAI_df[glassAI_df['cb_url'].notna()]\n",
    "print(glassAI_df.shape)"
   ]
  },
  {
   "cell_type": "code",
   "execution_count": null,
   "id": "432e6392",
   "metadata": {},
   "outputs": [],
   "source": [
    "\n",
    "merged_df = crunchbase_df.merge(glassAI_df, on='cb_url', how='inner')\n",
    "print(merged_df.shape)\n",
    "\n",
    "print(len(merged_df['org_ID'].unique()))"
   ]
  },
  {
   "cell_type": "code",
   "execution_count": null,
   "id": "6a748e79",
   "metadata": {},
   "outputs": [],
   "source": [
    "print(merged_df.shape)"
   ]
  },
  {
   "cell_type": "code",
   "execution_count": null,
   "id": "8ab8866c",
   "metadata": {},
   "outputs": [],
   "source": [
    "unmatched_glassAI = glassAI_df[~glassAI_df['cb_url'].isin(merged_df['cb_url'])]\n",
    "print(f\"Unmatched glassAI entries: {unmatched_glassAI.shape[0]}\")\n",
    "\n",
    "unmatched_glassAI = unmatched_glassAI.merge(companies_df, on='cb_url', how='left')\n",
    "print(unmatched_glassAI.shape)\n"
   ]
  },
  {
   "cell_type": "code",
   "execution_count": null,
   "id": "6df2e443",
   "metadata": {},
   "outputs": [],
   "source": [
    "save_path = DATA_PATH + \"/processed/glassAI_crunchbase_outer.xlsx\"\n",
    "merged_df.to_excel(save_path, index=False)"
   ]
  },
  {
   "cell_type": "code",
   "execution_count": null,
   "id": "181718c5",
   "metadata": {},
   "outputs": [],
   "source": [
    "glassAI_companies_merge = glassAI_df.merge(\n",
    "    companies_df,\n",
    "    left_on='cb_url',\n",
    "    right_on='cb_url',\n",
    "    how='inner'\n",
    ")\n",
    "print(glassAI_companies_merge.shape)"
   ]
  },
  {
   "cell_type": "code",
   "execution_count": null,
   "id": "28dd1262",
   "metadata": {},
   "outputs": [],
   "source": [
    "sector_counts = unmatched_glassAI['digital_sector'].value_counts()\n",
    "plt.figure(figsize=(10,11))\n",
    "sector_counts.plot(kind='bar')\n",
    "plt.xlabel('Digital Sector')\n",
    "plt.ylabel('Number of Companies')\n",
    "plt.title('Distribution of Sectors in unmatched_glassAI')\n",
    "plt.tight_layout()\n",
    "plt.show()"
   ]
  },
  {
   "cell_type": "code",
   "execution_count": null,
   "id": "16d519de",
   "metadata": {},
   "outputs": [],
   "source": [
    "sector_counts_merged = merged_df['digital_sector'].value_counts()\n",
    "plt.figure(figsize=(10,11))\n",
    "sector_counts_merged.plot(kind='bar')\n",
    "plt.xlabel('Digital Sector')\n",
    "plt.ylabel('Number of Companies')\n",
    "plt.title('Distribution of Sectors in merged_df')\n",
    "plt.tight_layout()\n",
    "plt.show()"
   ]
  },
  {
   "cell_type": "code",
   "execution_count": null,
   "id": "c2a93d54",
   "metadata": {},
   "outputs": [],
   "source": [
    "sector_counts_cb = crunchbase_df['Sector'].value_counts()\n",
    "plt.figure(figsize=(10,11))\n",
    "sector_counts_cb.plot(kind='bar')\n",
    "plt.xlabel('Sector')\n",
    "plt.ylabel('Number of Companies')\n",
    "plt.title('Distribution of Sectors in crunchbase_df')\n",
    "plt.tight_layout()\n",
    "plt.show()"
   ]
  },
  {
   "cell_type": "code",
   "execution_count": null,
   "id": "34304b69",
   "metadata": {},
   "outputs": [],
   "source": [
    "merged_df.columns"
   ]
  },
  {
   "cell_type": "code",
   "execution_count": null,
   "id": "022c63b4",
   "metadata": {},
   "outputs": [],
   "source": [
    "merged_df = merged_df.drop(columns=['organisation_name_y', 'keywords_lemma'])\n",
    "\n",
    "\n",
    "merged_df = merged_df.rename(columns={\n",
    "    'organisation_name_x': 'organisation_name',\n",
    "    'Sector': 'digital_sector',\n",
    "    'digital_sector': 'digital_sector_glassAI'\n",
    "})\n"
   ]
  },
  {
   "cell_type": "code",
   "execution_count": null,
   "id": "4f7aa715",
   "metadata": {},
   "outputs": [],
   "source": [
    "merged_df.shape"
   ]
  },
  {
   "cell_type": "code",
   "execution_count": null,
   "id": "7042d696",
   "metadata": {},
   "outputs": [],
   "source": [
    "save_path = DATA_PATH + \"/processed/glassAI_crunchbase_overlap.xlsx\"\n",
    "\n",
    "merged_df.to_excel(save_path, index=False)\n"
   ]
  },
  {
   "cell_type": "code",
   "execution_count": null,
   "id": "72ad65c7",
   "metadata": {},
   "outputs": [],
   "source": []
  }
 ],
 "metadata": {
  "kernelspec": {
   "display_name": ".venv",
   "language": "python",
   "name": "python3"
  },
  "language_info": {
   "codemirror_mode": {
    "name": "ipython",
    "version": 3
   },
   "file_extension": ".py",
   "mimetype": "text/x-python",
   "name": "python",
   "nbconvert_exporter": "python",
   "pygments_lexer": "ipython3",
   "version": "3.13.2"
  }
 },
 "nbformat": 4,
 "nbformat_minor": 5
}
