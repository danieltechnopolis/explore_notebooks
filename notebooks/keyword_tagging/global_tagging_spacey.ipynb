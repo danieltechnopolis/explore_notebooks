{
 "cells": [
  {
   "cell_type": "code",
   "execution_count": 11,
   "id": "dfb22374",
   "metadata": {},
   "outputs": [],
   "source": [
    "import os \n",
    "from dotenv import load_dotenv\n",
    "import pandas as pd\n",
    "import spacy\n",
    "from spacy.matcher import PhraseMatcher\n",
    "from import_keywords import clean_text"
   ]
  },
  {
   "cell_type": "code",
   "execution_count": 12,
   "id": "a185228b",
   "metadata": {},
   "outputs": [
    {
     "name": "stdout",
     "output_type": "stream",
     "text": [
      "DATA_PATH: /Users/danielbivol/Library/CloudStorage/OneDrive-SharedLibraries-TechnopolisGroupLtd/4050 Monitoring industrial ecosystems - TGBE internal - Crunchbase/Merged databases\n"
     ]
    }
   ],
   "source": [
    "load_dotenv()\n",
    "\n",
    "DATA_PATH = os.getenv(\"DATA_DIR\")\n",
    "print(f\"DATA_PATH: {DATA_PATH}\")\n"
   ]
  },
  {
   "cell_type": "code",
   "execution_count": null,
   "id": "95223174",
   "metadata": {},
   "outputs": [
    {
     "name": "stdout",
     "output_type": "stream",
     "text": [
      "(4049929, 5)\n"
     ]
    }
   ],
   "source": [
    "keywords_df = pd.read_excel(DATA_PATH + \"/keywords_combined_digital/Keywords_Combined.xlsx\", sheet_name=\"Sheet1\")\n",
    "keywords_df = keywords_df[keywords_df['yes/no'] == 'yes']\n",
    "keywords_df = keywords_df.drop(columns=['yes/no', 'Subcluster', 'Cluster'])\n",
    "keywords_df['Keyword'] = (\n",
    "    keywords_df['Keyword']\n",
    "    .astype(str)           \n",
    "    .str.strip()          \n",
    "    .str.lower()          \n",
    ")\n",
    "\n",
    "\n",
    "companies_df = pd.read_csv(DATA_PATH + \"/cb_net0_companies_concat.csv\", \n",
    "    usecols=['org_ID', 'organisation_name', 'short_description', 'description', 'data_source'],\n",
    "    dtype={'org_ID': 'string', 'organisation_name': 'string', 'short_description': 'string', 'description': 'string'},\n",
    "    index_col=False)\n",
    "companies_df = companies_df[companies_df['data_source'] != 'net0']\n",
    "\n",
    "print(companies_df.shape)"
   ]
  },
  {
   "cell_type": "code",
   "execution_count": 16,
   "id": "efb02649",
   "metadata": {},
   "outputs": [],
   "source": [
    "companies_df['search_text'] = (\n",
    "    (companies_df['short_description'].fillna('') + ' ' + companies_df['description'].fillna(''))\n",
    "    .str.lower()\n",
    "    .str.replace(r'[^\\w\\s]', ' ', regex=True)\n",
    "    .str.replace(r'\\s+', ' ', regex=True)\n",
    "    .str.strip()\n",
    ")\n",
    "\n",
    "companies_df.drop(['short_description', 'description'], axis=1, inplace=True)"
   ]
  },
  {
   "cell_type": "code",
   "execution_count": 17,
   "id": "40d77de4",
   "metadata": {},
   "outputs": [],
   "source": [
    "nlp = spacy.load('en_core_web_sm', disable=['ner', 'parser', 'tagger'])  \n",
    "matcher = PhraseMatcher(nlp.vocab, attr='LOWER')"
   ]
  },
  {
   "cell_type": "code",
   "execution_count": 18,
   "id": "5a8ba693",
   "metadata": {},
   "outputs": [],
   "source": [
    "patterns = [nlp.make_doc(text) for text in keywords_df['Keyword'].unique()]\n",
    "matcher.add(\"KEYWORDS\", patterns)"
   ]
  },
  {
   "cell_type": "code",
   "execution_count": 19,
   "id": "139414d1",
   "metadata": {},
   "outputs": [
    {
     "name": "stderr",
     "output_type": "stream",
     "text": [
      "/Users/danielbivol/Library/CloudStorage/OneDrive-TechnopolisGroupLtd/Documents/explore_notebooks/.venv/lib/python3.13/site-packages/spacy/pipeline/lemmatizer.py:188: UserWarning: [W108] The rule-based lemmatizer did not find POS annotation for one or more tokens. Check that your pipeline includes components that assign token.pos, typically 'tagger'+'attribute_ruler' or 'morphologizer'.\n",
      "  warnings.warn(Warnings.W108)\n"
     ]
    }
   ],
   "source": [
    "def extract_matches(text):\n",
    "    doc = nlp(text)\n",
    "    matches = matcher(doc)\n",
    "    return list(set([doc[start:end].text.lower() for _, start, end in matches]))\n",
    "\n",
    "companies_df['matched_keywords'] = companies_df['search_text'].apply(extract_matches)"
   ]
  },
  {
   "cell_type": "code",
   "execution_count": 21,
   "id": "bdc1696f",
   "metadata": {},
   "outputs": [],
   "source": [
    "matches_exploded = (\n",
    "    companies_df[['org_ID', 'organisation_name', 'search_text', 'matched_keywords']]\n",
    "    .explode('matched_keywords')\n",
    "    .dropna(subset=['matched_keywords'])\n",
    "    .merge(keywords_df[['Keyword']], left_on='matched_keywords', right_on='Keyword', how='left')\n",
    ")\n"
   ]
  },
  {
   "cell_type": "code",
   "execution_count": null,
   "id": "642f0ee1",
   "metadata": {},
   "outputs": [
    {
     "name": "stdout",
     "output_type": "stream",
     "text": [
      "Matches shape: (371005, 5)\n"
     ]
    }
   ],
   "source": [
    "print(f\"Matches shape: {matches_exploded.shape}\")"
   ]
  },
  {
   "cell_type": "code",
   "execution_count": 23,
   "id": "fc44cf90",
   "metadata": {},
   "outputs": [],
   "source": [
    "matches_exploded.to_csv(DATA_PATH + '/tech_keyword_matches_spacey.csv', index = False)"
   ]
  }
 ],
 "metadata": {
  "kernelspec": {
   "display_name": ".venv",
   "language": "python",
   "name": "python3"
  },
  "language_info": {
   "codemirror_mode": {
    "name": "ipython",
    "version": 3
   },
   "file_extension": ".py",
   "mimetype": "text/x-python",
   "name": "python",
   "nbconvert_exporter": "python",
   "pygments_lexer": "ipython3",
   "version": "3.13.2"
  }
 },
 "nbformat": 4,
 "nbformat_minor": 5
}
