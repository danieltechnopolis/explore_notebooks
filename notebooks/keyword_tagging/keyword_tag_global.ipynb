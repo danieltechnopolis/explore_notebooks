{
 "cells": [
  {
   "cell_type": "code",
   "execution_count": null,
   "id": "81a1faaf",
   "metadata": {},
   "outputs": [],
   "source": [
    "import os \n",
    "from dotenv import load_dotenv\n",
    "import pandas as pd\n",
    "from nltk.stem import PorterStemmer\n",
    "from import_keywords import clean_text"
   ]
  },
  {
   "cell_type": "code",
   "execution_count": null,
   "id": "369d21dd",
   "metadata": {},
   "outputs": [],
   "source": [
    "load_dotenv()\n",
    "\n",
    "DATA_PATH = os.getenv(\"DATA_DIR\")\n",
    "print(f\"DATA_PATH: {DATA_PATH}\")\n"
   ]
  },
  {
   "cell_type": "code",
   "execution_count": null,
   "id": "3e797a1d",
   "metadata": {},
   "outputs": [],
   "source": [
    "keywords_df = pd.read_excel(DATA_PATH + \"/keywords_combined_digital/Keywords_Combined.xlsx\", sheet_name=\"Sheet1\" )\n",
    "keywords_df = keywords_df[keywords_df['yes/no'] == 'yes']\n",
    "keywords_df = keywords_df.drop(columns=['yes/no', 'Subcluster', 'Cluster'])\n",
    "keywords_df['Keyword'] = (\n",
    "    keywords_df['Keyword']\n",
    "    .astype(str)           \n",
    "    .str.strip()          \n",
    "    .str.lower()          \n",
    ")"
   ]
  },
  {
   "cell_type": "code",
   "execution_count": null,
   "id": "bb09bee2",
   "metadata": {},
   "outputs": [],
   "source": [
    "dtype_dict = {'org_ID': 'string', 'organisation_name': 'string', 'short_description': 'string', 'description': 'string'}\n",
    "companies_df = pd.read_csv(DATA_PATH + \"/cb_net0_companies_concat.csv\", usecols=['org_ID', 'organisation_name', 'short_description', 'description'], dtype=dtype_dict, index_col=False)"
   ]
  },
  {
   "cell_type": "code",
   "execution_count": null,
   "id": "611c639f",
   "metadata": {},
   "outputs": [],
   "source": [
    "companies_df.columns.to_list()\n",
    "print(f\"companies_df shape:{companies_df.shape}\")\n",
    "print(companies_df.memory_usage(deep=True))         \n",
    "print(f\"Total memory: {companies_df.memory_usage(deep=True).sum() / (1024 ** 2):.2f} MB\")"
   ]
  },
  {
   "cell_type": "code",
   "execution_count": null,
   "id": "aa52c9d9",
   "metadata": {},
   "outputs": [],
   "source": [
    "companies_df['search_text'] = (\n",
    "    (companies_df['short_description'].fillna('') + ' ' + companies_df['description'].fillna(''))\n",
    "    .str.lower()\n",
    "    .str.replace(r'[^\\w\\s]', ' ', regex=True)\n",
    "    .str.replace(r'\\s+', ' ', regex=True)\n",
    "    .str.strip()\n",
    ")\n",
    "\n",
    "companies_df.drop(['short_description', 'description'], axis=1, inplace=True)\n"
   ]
  },
  {
   "cell_type": "code",
   "execution_count": null,
   "id": "d519d22e",
   "metadata": {},
   "outputs": [],
   "source": [
    "stemmer = PorterStemmer()\n",
    "\n",
    "def stem_text(text):\n",
    "    return ' '.join([stemmer.stem(word) for word in text.lower().split()])\n",
    "\n",
    "keywords_df['keyword_stemmed'] = keywords_df['Keyword'].apply(stem_text)\n",
    "companies_df['description_stemmed'] = companies_df['search_text'].apply(stem_text)"
   ]
  },
  {
   "cell_type": "code",
   "execution_count": null,
   "id": "3192cc21",
   "metadata": {},
   "outputs": [],
   "source": [
    "companies_df['desc_stemmed_set'] = companies_df['description_stemmed'].str.split().apply(set)\n",
    "\n",
    "\n",
    "companies_exploded = companies_df[['org_ID', 'organisation_name', 'description_stemmed', 'desc_stemmed_set']].explode('desc_stemmed_set')\n",
    "\n",
    "companies_exploded = companies_exploded.rename(columns={'desc_stemmed_set': 'keyword_stemmed'})\n",
    "\n",
    "matches = companies_exploded.merge(\n",
    "    keywords_df[['Keyword', 'keyword_stemmed']],\n",
    "    how='inner',\n",
    "    on='keyword_stemmed'\n",
    ")"
   ]
  },
  {
   "cell_type": "code",
   "execution_count": null,
   "id": "29416e25",
   "metadata": {},
   "outputs": [],
   "source": [
    "print(f\"Matches shape: {matches.shape}\")\n",
    "print(f\"Matches memory: {matches.memory_usage(deep=True).sum() / (1024 ** 2):.2f} MB\")"
   ]
  },
  {
   "cell_type": "code",
   "execution_count": null,
   "id": "a6d1d7cd",
   "metadata": {},
   "outputs": [],
   "source": [
    "\n",
    "display(matches.sample(n=100, random_state=42))"
   ]
  },
  {
   "cell_type": "code",
   "execution_count": null,
   "id": "5da5f824",
   "metadata": {},
   "outputs": [],
   "source": [
    "matches.to_csv(DATA_PATH + '/tech_keyword_matches_spacey.csv', index = False)"
   ]
  }
 ],
 "metadata": {
  "kernelspec": {
   "display_name": ".venv",
   "language": "python",
   "name": "python3"
  },
  "language_info": {
   "codemirror_mode": {
    "name": "ipython",
    "version": 3
   },
   "file_extension": ".py",
   "mimetype": "text/x-python",
   "name": "python",
   "nbconvert_exporter": "python",
   "pygments_lexer": "ipython3",
   "version": "3.13.2"
  }
 },
 "nbformat": 4,
 "nbformat_minor": 5
}
