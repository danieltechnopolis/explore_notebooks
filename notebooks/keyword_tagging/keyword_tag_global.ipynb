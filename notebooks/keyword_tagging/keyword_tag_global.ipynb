{
 "cells": [
  {
   "cell_type": "code",
   "execution_count": 1,
   "id": "81a1faaf",
   "metadata": {},
   "outputs": [],
   "source": [
    "import os \n",
    "from dotenv import load_dotenv\n",
    "import pandas as pd\n",
    "from nltk.stem import PorterStemmer\n",
    "from import_keywords import clean_text"
   ]
  },
  {
   "cell_type": "code",
   "execution_count": 2,
   "id": "369d21dd",
   "metadata": {},
   "outputs": [
    {
     "name": "stdout",
     "output_type": "stream",
     "text": [
      "DATA_PATH: /Users/danielbivol/Library/CloudStorage/OneDrive-SharedLibraries-TechnopolisGroupLtd/4050 Monitoring industrial ecosystems - TGBE internal - Crunchbase/Merged databases\n"
     ]
    }
   ],
   "source": [
    "load_dotenv()\n",
    "\n",
    "DATA_PATH = os.getenv(\"DATA_DIR\")\n",
    "print(f\"DATA_PATH: {DATA_PATH}\")\n"
   ]
  },
  {
   "cell_type": "code",
   "execution_count": 3,
   "id": "3e797a1d",
   "metadata": {},
   "outputs": [],
   "source": [
    "keywords_df = pd.read_excel(DATA_PATH + \"/keywords_combined_digital/Keywords_Combined.xlsx\", sheet_name=\"Sheet1\" )\n",
    "keywords_df = keywords_df[keywords_df['yes/no'] == 'yes']\n",
    "keywords_df = keywords_df.drop(columns=['yes/no', 'Subcluster', 'Cluster'])\n",
    "keywords_df['Keyword'] = (\n",
    "    keywords_df['Keyword']\n",
    "    .astype(str)           \n",
    "    .str.strip()          \n",
    "    .str.lower()          \n",
    ")\n",
    "\n"
   ]
  },
  {
   "cell_type": "code",
   "execution_count": 4,
   "id": "bb09bee2",
   "metadata": {},
   "outputs": [],
   "source": [
    "dtype_dict = {'org_ID': 'string', 'organisation_name': 'string', 'short_description': 'string', 'description': 'string'}\n",
    "companies_df = pd.read_csv(DATA_PATH + \"/cb_net0_companies_concat.csv\", usecols=['org_ID', 'organisation_name', 'short_description', 'description'], dtype=dtype_dict, index_col=False)"
   ]
  },
  {
   "cell_type": "code",
   "execution_count": 5,
   "id": "611c639f",
   "metadata": {},
   "outputs": [
    {
     "name": "stdout",
     "output_type": "stream",
     "text": [
      "companies_df shape:(4049929, 4)\n",
      "Index                       132\n",
      "org_ID                340457469\n",
      "organisation_name     265320659\n",
      "short_description     657755994\n",
      "description          1109379608\n",
      "dtype: int64\n",
      "Total memory: 2262.99 MB\n"
     ]
    }
   ],
   "source": [
    "companies_df.columns.to_list()\n",
    "print(f\"companies_df shape:{companies_df.shape}\")\n",
    "print(companies_df.memory_usage(deep=True))         \n",
    "print(f\"Total memory: {companies_df.memory_usage(deep=True).sum() / (1024 ** 2):.2f} MB\")"
   ]
  },
  {
   "cell_type": "code",
   "execution_count": 6,
   "id": "aa52c9d9",
   "metadata": {},
   "outputs": [],
   "source": [
    "companies_df['search_text'] = (\n",
    "    (companies_df['short_description'].fillna('') + ' ' + companies_df['description'].fillna(''))\n",
    "    .str.lower()\n",
    "    .str.replace(r'[^\\w\\s]', ' ', regex=True)\n",
    "    .str.replace(r'\\s+', ' ', regex=True)\n",
    "    .str.strip()\n",
    ")\n",
    "\n",
    "companies_df.drop(['short_description', 'description'], axis=1, inplace=True)\n"
   ]
  },
  {
   "cell_type": "code",
   "execution_count": 7,
   "id": "d519d22e",
   "metadata": {},
   "outputs": [],
   "source": [
    "stemmer = PorterStemmer()\n",
    "\n",
    "def stem_text(text):\n",
    "    return ' '.join([stemmer.stem(word) for word in text.lower().split()])\n",
    "\n",
    "keywords_df['keyword_stemmed'] = keywords_df['Keyword'].apply(stem_text)\n",
    "companies_df['description_stemmed'] = companies_df['search_text'].apply(stem_text)"
   ]
  },
  {
   "cell_type": "code",
   "execution_count": 8,
   "id": "3192cc21",
   "metadata": {},
   "outputs": [],
   "source": [
    "companies_df['desc_stemmed_set'] = companies_df['description_stemmed'].str.split().apply(set)\n",
    "\n",
    "\n",
    "companies_exploded = companies_df[['org_ID', 'organisation_name', 'description_stemmed', 'desc_stemmed_set']].explode('desc_stemmed_set')\n",
    "\n",
    "companies_exploded = companies_exploded.rename(columns={'desc_stemmed_set': 'keyword_stemmed'})\n",
    "\n",
    "matches = companies_exploded.merge(\n",
    "    keywords_df[['Keyword', 'keyword_stemmed']],\n",
    "    how='inner',\n",
    "    on='keyword_stemmed'\n",
    ")"
   ]
  },
  {
   "cell_type": "code",
   "execution_count": 9,
   "id": "29416e25",
   "metadata": {},
   "outputs": [
    {
     "name": "stdout",
     "output_type": "stream",
     "text": [
      "Matches shape: (188098, 5)\n",
      "Matches memory: 137.72 MB\n"
     ]
    }
   ],
   "source": [
    "print(f\"Matches shape: {matches.shape}\")\n",
    "print(f\"Matches memory: {matches.memory_usage(deep=True).sum() / (1024 ** 2):.2f} MB\")"
   ]
  },
  {
   "cell_type": "code",
   "execution_count": 12,
   "id": "a6d1d7cd",
   "metadata": {},
   "outputs": [
    {
     "data": {
      "application/vnd.microsoft.datawrangler.viewer.v0+json": {
       "columns": [
        {
         "name": "index",
         "rawType": "int64",
         "type": "integer"
        },
        {
         "name": "org_ID",
         "rawType": "string",
         "type": "string"
        },
        {
         "name": "organisation_name",
         "rawType": "string",
         "type": "string"
        },
        {
         "name": "description_stemmed",
         "rawType": "object",
         "type": "string"
        },
        {
         "name": "keyword_stemmed",
         "rawType": "object",
         "type": "string"
        },
        {
         "name": "Keyword",
         "rawType": "object",
         "type": "string"
        }
       ],
       "ref": "4047bddd-70bc-4781-a1d6-7100511a4f32",
       "rows": [
        [
         "169819",
         "162175.0",
         "Sungrow Asia Pacific",
         "sungrow manufactur energi solut for mobil sungrow offer a rang of solar and energi storag solut includ residenti commerci and util scale photovolta pv system energi storag float pv and electr vehicl charger they also provid wind and hydrogen product equip it offer softwar solut for energi manag and system monitor their softwar product includ tool for real time monitor perform analyt and smart grid integr these softwar system help optim the perform of solar and energi storag system enabl user to manag energi usag effici sungrow develop an innov that contribut to climat chang mitig by enabl low carbon transport",
         "photovolta",
         "photovoltaic"
        ],
        [
         "12290",
         "a7d038ee-b2bb-664b-9a92-323c572d861a",
         "Divoom",
         "divoom is a consum electron compani that manufactur pocket size wireless bluetooth speaker divoom is a consum electron compani that manufactur pocket size wireless bluetooth speaker it offer voombox travel a rugged wireless bluetooth speaker that is design to be easili transport it is both shock resist and splash proof",
         "bluetooth",
         "bluetooth"
        ],
        [
         "51554",
         "442a5ce8-a6f2-4e34-b581-39330a6fb4fc",
         "MARL 5G Accelerator",
         "marl 5g is an acceler focus on deeptech product and servic marl 5g is an earli stage acceler fund that invest in startup develop deeptech product and servic for enterpris custom the goal of the marl 5g acceler is to creat a commun of earli stage investor startup founder and corpor ventur team in the area of mobil ar vr autonom robot and logist which will face signific disrupt as wireless 5g technolog spread",
         "robot",
         "robotic"
        ],
        [
         "112090",
         "f151cc83-5e14-4b6d-9661-48b9565781df",
         "SAI Systems",
         "sai system offer staf servic for the engin and it sector sai system specialis in staf in area of engin and it servic they provid staff augment recruit and staf payrol administr and recruit process outsourc servic they also provid technolog analysi and consult firewal manag and cloud backup solut",
         "firewal",
         "firewall"
        ],
        [
         "97334",
         "a436672e-1721-47cb-8878-12adabf39148",
         "SolChicks",
         "solchick is an entertain provid firm make nft power video game to play and earn solchick is run by 50 dedic team member cover strategi develop partnership market social media and commun everi member of the team is fulli commit to long term vision for the success of the project",
         "nft",
         "nft"
        ],
        [
         "60270",
         "7a5245d5-f809-4d43-9856-3dc4fd63b7af",
         "arKadia",
         "we offer compani to have the full record and control of all the lifecycl of a contract or document with our platform base on blockchain we let compani to upload or creat document in our platform then you will be abl to share with all the peopl involv in a process and final those peopl will be abl to sing the document all 100 digit and have the record of all the interact",
         "blockchain",
         "blockchain"
        ],
        [
         "157292",
         "56af7890-1fd9-4af0-93c9-52c23fc15dd2",
         "Eigen Foundation",
         "eigen foundat is a blockchain servic compani that engag in the build of share secur common for crypto and web3",
         "blockchain",
         "blockchain"
        ],
        [
         "132465",
         "8f652968-737d-4af9-ac1c-573dc9e25121",
         "BlockBriefly",
         "blockbriefli provid concis crypto news to help you quickli grasp essenti insight and make inform decis in the bustl world of cryptocurr where everi moment count and inform is the lifeblood of decis make blockbriefli stand as a beacon of clariti and concis we recogn the challeng of navig the vast sea of crypto news fill with nois and distract that s whi we ve made it our mission to simplifi the process and deliv the essenti insight you need at blockbriefli we curat the meat of the stori distil the most vital inform into concis digest brief no more sift through endless articl or drown in a sea of data we offer a streamlin approach to stay inform in the fast pace world of crypto",
         "cryptocurr",
         "cryptocurrencies"
        ],
        [
         "84284",
         "4037ea3b-3fdf-44ed-884f-438390995232",
         "Battery Import",
         "batteri import is an onlin store that deliv car batteri traction batteri photovolta start cabl and voltag convert",
         "photovolta",
         "photovoltaic"
        ],
        [
         "103286",
         "793f25fd-9f4a-4cd2-9399-4b384c3a3677",
         "BitsOnline",
         "bitsonlin is a media portal for inform regard bitcoin cryptocurr and fintech",
         "cryptocurr",
         "cryptocurrencies"
        ],
        [
         "75355",
         "276791f7-9562-4197-b630-852b2c5db973",
         "Crownline Boats",
         "crownlin boat engag in the product of boat crownlin boat engag in the product of boat their product includ cruiser xss seri surf seri lpx seri ss seri finseek seri an onlin inquiri form is avail on the compani s websit",
         "xss",
         "xss"
        ],
        [
         "132138",
         "c0a622f1-f79f-400d-929f-a3da61fa9148",
         "SIRKL.io",
         "blockchain base commun platform sirkl io is a blockchain base commun platform the whatsapp of the crypto world sirkl io offer a new way to connect with full anonym as we login without email or password addit to just call and messag you have access to commun with other holder of the same crypto coin token or nft it s live on appstor and googl play sirkl io link but it s not everyth sirkl io is introduc soon the paid group featur allow user to monet their knowledg and the uniqu featur to store a messag or a call on the blockchain offer a high level of secur and authent",
         "crypto",
         "crypto"
        ],
        [
         "157323",
         "bb9359c7-0069-4410-85b3-f3c8893e3213",
         "Havona",
         "havona is a social media platform special in blockchain social marketplac and payment secur servic",
         "blockchain",
         "blockchain"
        ],
        [
         "119420",
         "70d72598-f45f-4e61-b30c-4dc46e09c392",
         "Tri-County Surgical Associates",
         "tri counti surgic associ provid breast cancer biopsi pediatr surgeri and robot surgeri treatment",
         "robot",
         "robot"
        ],
        [
         "23223",
         "783e398b-b909-eb73-018f-005bd26cb02a",
         "SONM",
         "sonm s blockchain base decentr fog comput platform sonm the autonom decentr system and blockchain base marketplac offer a comprehens altern to the cloud use a fog comput structur sonm allow user to connect their person devic to one virtual space creat a decentr platform where consum and supplier can rent and purchas comput power from one anoth to be use for specif computer task sonm releas it mvp testnet in decemb 2017 after success rais 42 million in juli to provid develop with the opportun to test sonm s wide rang of fog comput servic develop also are given the chanc to relay critic feedback and necessari improv to be made to the platform ahead of the product s first commerci releas in june 2018",
         "blockchain",
         "blockchain"
        ],
        [
         "166998",
         "559cfe80-fbed-4deb-a066-ef60aedb6edb",
         "AI-Digital Engine",
         "ai digit engin provid ai power it servic and solut across industri includ financ health and logist ai digit engin deliv ai and it servic to autom busi oper and improv perform the compani offer a rang of solut includ custom ai system machin learn data engin and cybersecur it also support blockchain web 3 0 and cloud base infrastructur with global oper ai digit engin work across multipl sector such as financ healthcar manufactur and educ it goal is to enabl scalabl digit transform through appli artifici intellig",
         "blockchain",
         "blockchain"
        ],
        [
         "123123",
         "45a2dc00-0518-43fe-a214-2d02483e7dd6",
         "Metaverse Job Japan",
         "metavers job japan is a seri of daili game giveaway to earn reward by complet simpl task metavers job japan is a seri of daili game giveaway to earn reward by complet simpl task it is a decentr organ that invest in nft in blockchain base game",
         "blockchain",
         "blockchain"
        ],
        [
         "17310",
         "b27de6a1-fe94-40e8-bdf0-eda24d8dee3f",
         "Mr. Chatbot",
         "mr chatbot allow ecommerc shop to creat their own help chatbot mr chatbot s goal is for ani e commerc shop owner to have a messeng and other platform down the road bot which is more sophist than the state of art we current have in commerc chatbot 90 of effort in creat a good engin for convers commerc is shop independ how to react to peopl s intent how to answer question how to give the bot a person we want to cover these 90 so that the ecommerc compani can focu on the other 10 the product themselv and uniqu copi reaction",
         "chatbot",
         "chatbot"
        ],
        [
         "54374",
         "1e252a7f-123c-4fcd-a4f2-0dd771d019a4",
         "SLYMETRIX",
         "e commerc busi analyt saa tool slymetrix analyt is a tool that monitor in real time the statu of e commerc traffic and sale in relat to plan object it is a tool that allow everi execut and oper manag to check at a glanc the result of onlin sale in relat to the expect object for the period it can be instal and configur in just a few minut without the need for ani specif technic skill thank to intuit dashboard it show in real time the result of visit and sale that the onlin shop is produc in addit with special indic you can see at a glanc whether perform is good or bad slymetrix analyt also offer the possibl of display dashboard in 16 9 so that they can be transmit live on a tv monitor if place in your offic it allow you to quickli check the real time perform throughout the day in addit the advanc version allow the definit of advertis campaign in the variou digit media channel build an inventori of channel organ by traffic provid onc the definit is complet for each channel of each campaign the platform gener a track url through which it will be possibl to monitor the perform of the campaign and those of the digit media channel in conclus with slymetrix analyt everi e commerc retail can boost it perform by optim it media invest by monitor result accord to budget forecast whi invest becaus slymetrix is the key tool to enabl e commerc to improv it perform and thu achiev the expect econom goal increas sale and profit by at least 30 the e commerc market is grow steadili and today ha around 15 million onlin shop becaus we have develop a 100 scalabl full saa busi model clone success intern model with the intent of attract the attent of larg intern group interest in acquir the startup exit becaus our goal is to achiev an exit within 3 5 year of incorpor that will allow investor in thi round to get x10 return market slymetrix is posit in the busi analyt softwar platform market the global busi analyt softwar market size wa valu at 53 68 billion in 2019 and is expect to reach 120 27 billion by 2027 regist a cagr of 10 5 from 2020 to 2027 machin learn and artifici intellig we have laid the foundat for evolv our mathemat algorithm into machin learn and artifici intellig system that will make decis on behalf of platform user the aim is for the tool themselv to suggest how to manag invest in order to improv perform",
         "dashboard",
         "dashboards"
        ],
        [
         "106874",
         "464bbc5a-b7df-4ddb-8a2c-a65941bfccf5",
         "Amerge",
         "amc certifi and award win full servic global amazon agenc with over 150 year of collect ex amazon experi amerg is an amc certifi and award win full servic global amazon agenc with over 150 year of collect ex amazon experi our primari mission is build the blueprint for everi brand s success on amazon regardless of whether you are current sell on the platform or elsewher recogn as a certifi amazon market cloud provid we proudli deliv outstand amc solut tailor for our client we consist stay at the forefront of amazon industri advanc ensur that we integr the latest ad tech and amazon trend into our strategi we help busi achiev sustain growth on amazon by analys and forecast their profit boost total sale reduc oper cost drive increment custom help with expans into new market and use amazon market cloud to review the full custom journey by employ our wealth of experi from within amazon we creat full funnel strategi for our client utilis our ex amazon experi in manag amazon ad product whilst report through amerg view a proprietari advertis dashboard for in depth analysi which give us a real time granular view of your advertis and retail sale perform power by our optim tool amerg engin",
         "dashboard",
         "dashboards"
        ],
        [
         "60473",
         "79269b78-9ae4-4c7e-ac20-ba5c742c1479",
         "Gorge Net",
         "gorg net is an internet servic provid that offer ethernet wireless voip and internet for both busi and residenti",
         "ethernet",
         "ethernet"
        ],
        [
         "87353",
         "94389a2a-ab3d-4184-a400-48e397f6b5e4",
         "Grimsholm Green",
         "grimsholm green is a manufactur compani of accessori such as blade and signal cabl and model of robot mower grimsholm green s product rang includ accessori such as blade and signal cabl loop cabl for variou brand model of robot mower grimsholm green manufactur accessori that are compat with other manufactur equip grimsholm accessori must not be confus with origin accessori from the equip manufactur concern",
         "robot",
         "robot"
        ],
        [
         "119477",
         "d283302c-5789-4d88-83b9-d0757b3fba50",
         "Boston College Blockchain",
         "boston colleg blockchain is an educatioanl sector",
         "blockchain",
         "blockchain"
        ],
        [
         "186958",
         "45977",
         "AQUADAT",
         "aquadat is a watertech compani special in gener and transform water data into action solut their deep tech platform aquaradar offer comprehens water assess use satellit drone iot and geophys technolog along with digit twin technolog for enhanc decis make aquadat collabor with sustain organ to design water data driven solut aim to support sustain develop goal and enhanc water manag process for variou entiti",
         "iot",
         "iot"
        ],
        [
         "149957",
         "0859ef91-185a-4c64-896a-c2a579add76e",
         "AvPac Insurance Services",
         "avpac insur servic is an aviat insur brokerag firm that offer drone and aircraft renter insur servic",
         "drone",
         "drones"
        ],
        [
         "137214",
         "696dc5f9-3e00-4515-a00e-490cb677f8c8",
         "Bitacora",
         "saa data scienc blockchain ai at bitácora we want to simplifi peopl s live we seek to help research in data manag make work simpler take care of and provid traceabl to data use blockchain support investig with statist assist through ai and data process to save time and save money",
         "blockchain",
         "blockchain"
        ],
        [
         "127833",
         "a48d3bba-9ecd-473a-b2c6-84c64af0d8a7",
         "FinBud.ai",
         "action ai insight for stock crypto and forex action ai insight for stock crypto and fore leverag finbud s ai to transform vast market data into clear action insight help day trader swing trader fundament analyst crypto enthusiast and forex trader seiz new opportun with confid",
         "crypto",
         "crypto"
        ],
        [
         "135270",
         "a0e2118f-8cd9-4306-9ee0-59214e9a2abb",
         "Evisbot",
         "boost user engag with innov chatbot integr boost user engag with innov chatbot integr discov seamless connect and custom solut to elev user experi unleash the power of ai power convers today",
         "chatbot",
         "chatbot"
        ],
        [
         "1389",
         "d5b9d6ac-97a8-1abf-c138-5c548d4acb38",
         "Medtronic",
         "medtron is a healthcar technolog compani that design and develop ai base product and solut for the medic industri medtron provid healthcar technolog solut for complex and challeng condit they deliv treatment and therapi for the lung brain dental diabet ent heart gastrointestin orthoped urinari and women s health the compani s technolog and therapi treat 70 differ medic condit and includ patient monitor system robot surgeri insulin pump cardiac devic and more medtron deliv innov technolog that chang peopl s live through to it extens knowledg insati curios and desir to assist everyon in need",
         "robot",
         "robot"
        ],
        [
         "84328",
         "75996672-3f4c-489c-b2b0-30992b793416",
         "Transpose",
         "transpos is a web3 data and infrastructur startup build on web3 data should be fast and simpl transpos is on a journey to set a new standard for blockchain data by translat low level blockchain data into a suit of high level human readabl api transpos will reimagin the speed and scope of web3 develop",
         "web3",
         "web3"
        ],
        [
         "164230",
         "6da716b7-5454-4da9-8241-a79e552b4e98",
         "Kimdai Intelligence",
         "kimdai intellig is a robot manufactur that special in the research develop product and sale of intellig product kimdai intellig is a robot and intellig product manufactur special in research develop product and sale the compani focus on educ virtual servic health and pet robot offer oem odm servic for intellig product addit kimdai intellig provid full stack servic includ softwar develop hardwar design and manufactur serv global market",
         "robot",
         "robotic"
        ],
        [
         "145797",
         "1a1d499e-72fb-417e-a589-2ea20bbd8420",
         "Teknoloji Menajeri",
         "teknoloji menajeri provid manag servic to it compani focus on metavers gamif vr ar ai iot cgi and game design teknoloji menajeri is a technolog and softwar consult firm that connect client with solut provid for project manag their servic encompass artifici intellig metavers develop gamif extend realiti vr ar mr iot cgi blockchain nft game design custom applic and web design cybersecur network solut robot code and hardwar solut addit they offer headhunt servic leverag a network of partner compani and develop to match profession with project need their techpr servic includ media relat content creation strateg commun event manag and digit pr to enhanc brand visibl they also provid intellectu technolog train session cover topic like digit literaci artifici intellig adapt blockchain cgi applic and consciou digit parent",
         "nft",
         "nft"
        ],
        [
         "67502",
         "42024814-7a4f-41b6-ad19-6b1ed4bbc7cf",
         "BORUS",
         "stock brokerag commun platform boru is an onlin decentr invest platform that plan to effect transform away from the brick and mortar bank industri toward a clean sustain and secur onlin environ util blockchain technolog boru is structur an onlin forum where accredit particip are abl to connect with typic investor to exchang key invest guidanc boru is focus on offer a transpar user friendli way for your averag investor to connect with like mind individu to grow togeth",
         "blockchain",
         "blockchain"
        ],
        [
         "35922",
         "6082992f-ed2d-465e-afbd-b884236774ae",
         "TSM Technologies",
         "tsm technolog focus on total end to end mobil solut servic iot as well as innov hardwar and softwar product tsm technolog is an indonesian compani that focus on total end to end mobil solut servic iot as well as innov hardwar and softwar product sinc 2012 as a pioneer of indeped design hous or local research s develop compani for mobil phone in indonesia tsm technolog is also the first offici qualcomm licens in indonesia",
         "iot",
         "iot"
        ],
        [
         "93654",
         "c3ece1ec-3c77-413b-b947-fa29c2749f62",
         "Dux Cripto",
         "dux cripto is a crypto game commun for p2e game metavers and nft dux cripto is a crypto game commun for p2e game metavers and nft they offer one of a kind web3 solut for individu and busi it creat an ecosystem that facilit the entri of peopl into web 3 0 dux invest in player by offer scholarship in it market for play to earn p2e play to win game also known as nft game blockchain game and cryptogam a game genr",
         "nft",
         "nft"
        ],
        [
         "46496",
         "346f5515-a1f8-465f-8805-a14c040b1a15",
         "CryptoMibs",
         "cryptomib is the next gener of game on the blockchain cryptomib is the next gener of game on the blockchain play with jasper their virtual mibster or with other mibster in your network to win more marbl and other prize your marbl are erc721 asset on the ethereum blockchain their smart contract make sure they provid you with the best game experi the blockchain can offer with back from surg erp consult they are not just anoth crypto game they are a real compani with real custom who need blockchain solut to stay competit cryptomib is the first step on their roadmap to develop blockchain base busi applic help us get there by click on the play game button and sign up for their beta trial",
         "ethereum",
         "ethereum"
        ],
        [
         "106289",
         "24115b9a-49da-4832-aa3d-cafee9499eba",
         "Inception Robotics",
         "incept robot offer robot autonomi solut incept robot mission is to acceler the develop process of autonom mobil robot applic we are develop a suit of comprehens cloud base tool that autonom mobil robot compani in their earli product develop cycl can use off the shelf to speed up the develop process and significantli reduc cost on research and develop effort we provid access to these tool through a cloud base robot oper platform avail via a user friendli web applic",
         "robot",
         "robot"
        ],
        [
         "173104",
         "10319",
         "EzzingSolar",
         "ezzingsolar is a softwar solut provid special in streamlin the photovolta pv industri s sale design instal and after sale process ezzingsolar s platform offer a rang of tool and modul specif design for the photovolta industri these tool target captur and qualifi lead gener person propos and pv layout coordin instal activ and manag ongo oper and mainten of solar instal their softwar includ featur like onlin simul crm integr mobil app for instal and monitor applic for client ezzingsolar develop an innov that contribut to climat chang mitig by enabl low carbon electr gener",
         "photovolta",
         "photovoltaics"
        ],
        [
         "99659",
         "094f1214-068d-4e63-87cd-1f2093acf40e",
         "Visaris",
         "visari provid digit x ray system dr room and diagnost workflow solut visari provid technolog x ray system effici user interfac embed system real time design imag process medic informat electron robot mechan and structur engin",
         "robot",
         "robotic"
        ],
        [
         "170724",
         "169521.0",
         "CircumVENT Global",
         "circumv global develop co2 captur system integr with robot and ai for effici monitor and manag circumv global direct air captur dac system extract co2 from the air and secur store it featur includ low power ai for predict mainten reduc servic visit and robot actuat for replac satur filter collect data is analyz for research purpos by product from the captur process are convert into plastic product like recycl packag sustain bag construct materi and eco friendli cloth their point sourc pollut control system are design to integr directli into industri emiss sourc circumv global develop an innov that contribut to climat chang mitig by reduc greenhous ga emiss",
         "robot",
         "robot"
        ],
        [
         "46643",
         "7c2b825a-164d-4cb6-ba71-3a616be5da42",
         "dAegis",
         "one stop secur and blockchain equip solut for manag sponsorship deal sponsi revolution the industri of busi sponsorship by enabl sponse to token their sponsorship asset and sell them to sponsor in a more discret and transpar way that tradit possibl thi present ampl possibl to sponse includ the abil to flexibl sell part of their asset to variou sponsor a capac to rais sponsorship fund from their own custom and secondari market opportun all the sponsorship relat inform includ previou deal other sponsor review intellectu properti right and licens is store on ethereum blockchain thu enabl potenti sponsor to track the histori of each sponsorship asset",
         "blockchain",
         "blockchain"
        ],
        [
         "47902",
         "9141282e-1545-46a3-80ab-1c87431f8078",
         "Alberta Blockchain Consortium",
         "alberta blockchain consortium is found to give a unifi voic to blockchain technolog the alberta blockchain consortium abc is found to unit our provinc s divers commun of blockchain busi owner develop adopt and those interest in explor the technolog s transform potenti seek to educ and rais awar of blockchain s incred econom and social valu the abc support ecosystem develop and host monthli gather with expert speaker along with other high profil event with intern reach",
         "blockchain",
         "blockchain"
        ],
        [
         "41059",
         "9f24eea5-d22d-479d-9760-fde4d90b9a6a",
         "Advanced Farm Technologies",
         "advanc farm technolog is a robot compani focus on autom agricultur task advanc farm technolog is a robot compani for the next frontier of farm it offer strawberri harvest servic in the oxnard santa maria and watsonvil area it robot gentli handl berri to avoid bruis and fruit damag advanc farm technolog wa found in davi california in 2017",
         "robot",
         "robotic"
        ],
        [
         "49882",
         "41fff421-6616-4b65-812c-fdf848ee4ae9",
         "earlyworks",
         "earli work is a next gener blockchain technolog that realiz high speed high scalabl and high secur earlywork is a blockchain technolog compani special in it proprietari grid ledger system a hybrid blockchain databas platform it offer high speed process tamper resist and zero server downtim with applic across real estat advertis telecommun metavers and financi servic it aim to posit gl as foundat infrastructur for the web3 and metavers era",
         "blockchain",
         "blockchain"
        ],
        [
         "37300",
         "b54289a4-100b-4f77-8d00-c497782eb370",
         "Relex",
         "relex is the world s first cryptocurr base real estat develop opportun relex is the world s first cryptocurr base real estat develop opportun rlx holder have the opportun to invest in project dure the develop phase which result in excit opportun such as proxi ownership of resort shop mall offic and more and gain more right as a proxi develop have your voic heard regard design and implement of the final master plan",
         "cryptocurr",
         "cryptocurrencies"
        ],
        [
         "20775",
         "a2e8ffaa-e9f6-128e-c2aa-af2807f15807",
         "Botmakers",
         "botmak is a chatbot templat marketplac that help market agenc and resel creat chatbot botmak is a chatbot templat marketplac that help market agenc and resel creat chatbot the marketplac provid templat for custom servic restaur reserv bot appoint schedul and receptionist chatbot for doctor lawyer person coach e commerc chatbot brand chatbot for apparel compani movi non profit person chatbot for celebr musician and politician deliveri chatbot for restaur and foodservic compani transport chatbot for airlin bu train and other public transport compani news bot for publish and travel bot for onlin travel agenc and hotel in 2016 alexand gamanyuk establish the compani in san mateo california",
         "chatbot",
         "chatbot"
        ],
        [
         "164701",
         "09366e67-5444-4111-a7e4-8caa7094583f",
         "iCode",
         "icod is a softwar develop compani that provid custom web and mobil solut for startup and corpor icod is a softwar develop compani that provid custom web and mobil solut for startup and corpor it servic includ consult busi analysi design and develop aim to support client throughout the product lifecycl the compani offer full stack develop capabl encompass web develop mobil applic creation product design and cloud base solut addit icod engag in applic develop test system integr and solut deliveri servic special in web mobil enterpris and iot applic",
         "iot",
         "iot"
        ],
        [
         "77222",
         "c3495fa3-2cf6-4d96-b9d4-b8aa967c64e1",
         "SmartFi",
         "smartfi is a uniqu monetari system smartfi is a digit wealth creation platform that provid easi to use financi tool to earn trade and lend cryptocurr",
         "cryptocurr",
         "cryptocurrencies"
        ],
        [
         "95655",
         "4cb30ebc-d677-4ba4-ad40-5ec8efc34fc7",
         "Investikon.no",
         "investikon is one of norway s biggest financ blog reader can expect to find updat content for invest stock and cryptocurr",
         "cryptocurr",
         "cryptocurrency"
        ],
        [
         "174418",
         "166786",
         "Infravoltaic",
         "infravolta manufactur solar power panel intend to provid scalabl and sustain clean energi sourc the compani provid a fulli vertic integr turnkey solut for photovolta system from design to engin modul product to instal and mainten enabl organ to reduc their carbon footprint by incorpor renew energi resourc into their suppli chain",
         "photovolta",
         "photovoltaic"
        ]
       ],
       "shape": {
        "columns": 5,
        "rows": 100
       }
      },
      "text/html": [
       "<div>\n",
       "<style scoped>\n",
       "    .dataframe tbody tr th:only-of-type {\n",
       "        vertical-align: middle;\n",
       "    }\n",
       "\n",
       "    .dataframe tbody tr th {\n",
       "        vertical-align: top;\n",
       "    }\n",
       "\n",
       "    .dataframe thead th {\n",
       "        text-align: right;\n",
       "    }\n",
       "</style>\n",
       "<table border=\"1\" class=\"dataframe\">\n",
       "  <thead>\n",
       "    <tr style=\"text-align: right;\">\n",
       "      <th></th>\n",
       "      <th>org_ID</th>\n",
       "      <th>organisation_name</th>\n",
       "      <th>description_stemmed</th>\n",
       "      <th>keyword_stemmed</th>\n",
       "      <th>Keyword</th>\n",
       "    </tr>\n",
       "  </thead>\n",
       "  <tbody>\n",
       "    <tr>\n",
       "      <th>169819</th>\n",
       "      <td>162175.0</td>\n",
       "      <td>Sungrow Asia Pacific</td>\n",
       "      <td>sungrow manufactur energi solut for mobil sung...</td>\n",
       "      <td>photovolta</td>\n",
       "      <td>photovoltaic</td>\n",
       "    </tr>\n",
       "    <tr>\n",
       "      <th>12290</th>\n",
       "      <td>a7d038ee-b2bb-664b-9a92-323c572d861a</td>\n",
       "      <td>Divoom</td>\n",
       "      <td>divoom is a consum electron compani that manuf...</td>\n",
       "      <td>bluetooth</td>\n",
       "      <td>bluetooth</td>\n",
       "    </tr>\n",
       "    <tr>\n",
       "      <th>51554</th>\n",
       "      <td>442a5ce8-a6f2-4e34-b581-39330a6fb4fc</td>\n",
       "      <td>MARL 5G Accelerator</td>\n",
       "      <td>marl 5g is an acceler focus on deeptech produc...</td>\n",
       "      <td>robot</td>\n",
       "      <td>robotic</td>\n",
       "    </tr>\n",
       "    <tr>\n",
       "      <th>112090</th>\n",
       "      <td>f151cc83-5e14-4b6d-9661-48b9565781df</td>\n",
       "      <td>SAI Systems</td>\n",
       "      <td>sai system offer staf servic for the engin and...</td>\n",
       "      <td>firewal</td>\n",
       "      <td>firewall</td>\n",
       "    </tr>\n",
       "    <tr>\n",
       "      <th>97334</th>\n",
       "      <td>a436672e-1721-47cb-8878-12adabf39148</td>\n",
       "      <td>SolChicks</td>\n",
       "      <td>solchick is an entertain provid firm make nft ...</td>\n",
       "      <td>nft</td>\n",
       "      <td>nft</td>\n",
       "    </tr>\n",
       "    <tr>\n",
       "      <th>...</th>\n",
       "      <td>...</td>\n",
       "      <td>...</td>\n",
       "      <td>...</td>\n",
       "      <td>...</td>\n",
       "      <td>...</td>\n",
       "    </tr>\n",
       "    <tr>\n",
       "      <th>17932</th>\n",
       "      <td>f3efcaa0-8086-bed2-1978-486be28c1240</td>\n",
       "      <td>Tend.ai</td>\n",
       "      <td>tend ai is a smart cloud robot softwar platfor...</td>\n",
       "      <td>robot</td>\n",
       "      <td>robot</td>\n",
       "    </tr>\n",
       "    <tr>\n",
       "      <th>153524</th>\n",
       "      <td>a19bb91a-0e23-4c9f-bbf9-9816605f7a3c</td>\n",
       "      <td>Cryptobase</td>\n",
       "      <td>cryptobas develop secur softwar and oper bitco...</td>\n",
       "      <td>bitcoin</td>\n",
       "      <td>bitcoin</td>\n",
       "    </tr>\n",
       "    <tr>\n",
       "      <th>82258</th>\n",
       "      <td>9617ad20-443c-4412-bcca-3ec371137090</td>\n",
       "      <td>Mercurius Crypto</td>\n",
       "      <td>mercuriu crypto is a research hous that offer ...</td>\n",
       "      <td>crypto</td>\n",
       "      <td>crypto</td>\n",
       "    </tr>\n",
       "    <tr>\n",
       "      <th>76049</th>\n",
       "      <td>ecc7cbbc-3bbb-4130-b60f-90608576dde8</td>\n",
       "      <td>Cipholio Ventures</td>\n",
       "      <td>cipholio is a team of profession investor and ...</td>\n",
       "      <td>cryptocurr</td>\n",
       "      <td>cryptocurrencies</td>\n",
       "    </tr>\n",
       "    <tr>\n",
       "      <th>179093</th>\n",
       "      <td>61443</td>\n",
       "      <td>Flux Protocol</td>\n",
       "      <td>the compani is a develop of an artifici intell...</td>\n",
       "      <td>robot</td>\n",
       "      <td>robotic</td>\n",
       "    </tr>\n",
       "  </tbody>\n",
       "</table>\n",
       "<p>100 rows × 5 columns</p>\n",
       "</div>"
      ],
      "text/plain": [
       "                                      org_ID     organisation_name  \\\n",
       "169819                              162175.0  Sungrow Asia Pacific   \n",
       "12290   a7d038ee-b2bb-664b-9a92-323c572d861a                Divoom   \n",
       "51554   442a5ce8-a6f2-4e34-b581-39330a6fb4fc   MARL 5G Accelerator   \n",
       "112090  f151cc83-5e14-4b6d-9661-48b9565781df           SAI Systems   \n",
       "97334   a436672e-1721-47cb-8878-12adabf39148             SolChicks   \n",
       "...                                      ...                   ...   \n",
       "17932   f3efcaa0-8086-bed2-1978-486be28c1240               Tend.ai   \n",
       "153524  a19bb91a-0e23-4c9f-bbf9-9816605f7a3c            Cryptobase   \n",
       "82258   9617ad20-443c-4412-bcca-3ec371137090      Mercurius Crypto   \n",
       "76049   ecc7cbbc-3bbb-4130-b60f-90608576dde8     Cipholio Ventures   \n",
       "179093                                 61443         Flux Protocol   \n",
       "\n",
       "                                      description_stemmed keyword_stemmed  \\\n",
       "169819  sungrow manufactur energi solut for mobil sung...      photovolta   \n",
       "12290   divoom is a consum electron compani that manuf...       bluetooth   \n",
       "51554   marl 5g is an acceler focus on deeptech produc...           robot   \n",
       "112090  sai system offer staf servic for the engin and...         firewal   \n",
       "97334   solchick is an entertain provid firm make nft ...             nft   \n",
       "...                                                   ...             ...   \n",
       "17932   tend ai is a smart cloud robot softwar platfor...           robot   \n",
       "153524  cryptobas develop secur softwar and oper bitco...         bitcoin   \n",
       "82258   mercuriu crypto is a research hous that offer ...          crypto   \n",
       "76049   cipholio is a team of profession investor and ...      cryptocurr   \n",
       "179093  the compani is a develop of an artifici intell...           robot   \n",
       "\n",
       "                 Keyword  \n",
       "169819      photovoltaic  \n",
       "12290          bluetooth  \n",
       "51554            robotic  \n",
       "112090          firewall  \n",
       "97334                nft  \n",
       "...                  ...  \n",
       "17932              robot  \n",
       "153524           bitcoin  \n",
       "82258             crypto  \n",
       "76049   cryptocurrencies  \n",
       "179093           robotic  \n",
       "\n",
       "[100 rows x 5 columns]"
      ]
     },
     "metadata": {},
     "output_type": "display_data"
    }
   ],
   "source": [
    "\n",
    "display(matches.sample(n=100, random_state=42))"
   ]
  },
  {
   "cell_type": "code",
   "execution_count": null,
   "id": "5da5f824",
   "metadata": {},
   "outputs": [],
   "source": [
    "matches.to_csv(DATA_PATH + '/keyword_matches_test_cbnet0.csv', index = False)"
   ]
  }
 ],
 "metadata": {
  "kernelspec": {
   "display_name": ".venv",
   "language": "python",
   "name": "python3"
  },
  "language_info": {
   "codemirror_mode": {
    "name": "ipython",
    "version": 3
   },
   "file_extension": ".py",
   "mimetype": "text/x-python",
   "name": "python",
   "nbconvert_exporter": "python",
   "pygments_lexer": "ipython3",
   "version": "3.13.2"
  }
 },
 "nbformat": 4,
 "nbformat_minor": 5
}
