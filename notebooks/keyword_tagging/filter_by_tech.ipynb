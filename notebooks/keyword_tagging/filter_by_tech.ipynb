{
 "cells": [
  {
   "cell_type": "code",
   "execution_count": null,
   "id": "62be66a9",
   "metadata": {},
   "outputs": [],
   "source": [
    "import pandas as pd \n",
    "import numpy as np\n",
    "from dotenv import load_dotenv\n",
    "import os \n",
    "import re\n",
    "from import_keywords import extract_keywords, clean_text, find_matched_keywords, match_transition, find_keywords_from_df\n"
   ]
  },
  {
   "cell_type": "code",
   "execution_count": null,
   "id": "be8b9ec5",
   "metadata": {},
   "outputs": [],
   "source": [
    "load_dotenv()\n",
    "\n",
    "PROJECT_DATA_DIR = os.getenv('DATA_DIR')\n",
    "SAVE_DIR = os.getenv('SAVE_DIR')\n",
    "\n",
    "data_path = os.path.join(PROJECT_DATA_DIR, 'Agrifood/Agrifood_complete.csv')\n",
    "keywords_data = os.path.join(PROJECT_DATA_DIR, 'Startup_Keywords.xlsx')\n",
    "save_path = os.path.join(SAVE_DIR, 'agrifood_tagged.csv')"
   ]
  },
  {
   "cell_type": "markdown",
   "id": "62dbabf4",
   "metadata": {},
   "source": [
    "### Extract keywords per specificed ecoystem from excel workbook into a pd DataFrame\n",
    "\n",
    "extract_keywords can be used to specifiy which keywords to be extracted from the startup_keywords workbook. A df is saved with columns 'transition', 'technology', '{ecosystem_column_name}'. \n",
    "\n",
    "The df stores 1 keyword per row, allowing for simple slicing and processing if needed. \n",
    "\n"
   ]
  },
  {
   "cell_type": "code",
   "execution_count": null,
   "id": "70237598",
   "metadata": {},
   "outputs": [],
   "source": [
    "# Read in keywords workkbook. Extract keyword cells for required ecosystems. Save to a dataframe. \n",
    "df = pd.read_excel(keywords_data, sheet_name='PY_Keywords_update', engine='openpyxl')\n",
    "\n",
    "df.columns = [col.strip() for col in df.columns] \n",
    "\n",
    "df['Transition'] = df['Transition'].ffill()\n",
    "\n",
    "agri_keywords_df = extract_keywords(df, industry_col='Agri-food')  "
   ]
  },
  {
   "cell_type": "code",
   "execution_count": null,
   "id": "94d8ed5e",
   "metadata": {},
   "outputs": [],
   "source": [
    "#Load df to tag. Append text fields to single search_text column. Normalise. \n",
    "agri_companies = pd.read_csv(data_path)\n",
    "\n",
    "text_cols = ['short_description', 'description']\n",
    "\n",
    "agri_companies['search_text'] = (\n",
    "    agri_companies[text_cols]\n",
    "    .apply(lambda x: ' '.join(x.dropna().astype(str).str.strip()), axis=1)\n",
    "    .apply(clean_text)\n",
    ")\n",
    "\n",
    "print(agri_companies['search_text'].head(10).values)"
   ]
  },
  {
   "cell_type": "code",
   "execution_count": null,
   "id": "bc540ca7",
   "metadata": {},
   "outputs": [],
   "source": [
    "#Add category tags, apply keyword matching. For each keyword match respective tech category is appended. \n",
    "agri_companies['category_tags'] = agri_companies['search_text'].apply(lambda row: find_keywords_from_df(row, agri_keywords_df))\n",
    "\n",
    "category_exploded = agri_companies.explode('category_tags')\n",
    "\n",
    "category_distribution = category_exploded['category_tags'].value_counts()\n",
    "\n",
    "print(\"Category tag distribution:\")\n",
    "print(category_distribution)"
   ]
  },
  {
   "cell_type": "code",
   "execution_count": null,
   "id": "7b790f2f",
   "metadata": {},
   "outputs": [],
   "source": [
    "# Tag keywords. Append as comma-seperated entries.\n",
    "keywords = agri_keywords_df.iloc[:, 2].dropna().astype(str).unique().tolist()\n",
    "\n",
    "agri_companies['keywords'] = agri_companies['search_text'].apply(lambda row: find_matched_keywords(row, keywords))"
   ]
  },
  {
   "cell_type": "code",
   "execution_count": null,
   "id": "4ca507df",
   "metadata": {},
   "outputs": [],
   "source": [
    "# Match transitions from a green and digital dictionary constructed from keywords_df \n",
    "agri_companies['green'] = agri_companies['search_text'].apply(lambda txt: match_transition(txt, green_keywords))\n",
    "agri_companies['digital'] = agri_companies['search_text'].apply(lambda txt: match_transition(txt, digital_keywords))\n"
   ]
  },
  {
   "cell_type": "code",
   "execution_count": null,
   "id": "c6b63e47",
   "metadata": {},
   "outputs": [],
   "source": [
    "filtered_df = agri_companies[\n",
    "    (agri_companies['keywords'].str.strip() != '') |\n",
    "    (agri_companies['digital'].str.strip() != '') |\n",
    "    (agri_companies['green'].str.strip() != '')\n",
    "].copy()"
   ]
  },
  {
   "cell_type": "code",
   "execution_count": null,
   "id": "44e85579",
   "metadata": {},
   "outputs": [],
   "source": [
    "filtered_df.to_csv(save_path, index=False)"
   ]
  }
 ],
 "metadata": {
  "kernelspec": {
   "display_name": ".venv",
   "language": "python",
   "name": "python3"
  },
  "language_info": {
   "codemirror_mode": {
    "name": "ipython",
    "version": 3
   },
   "file_extension": ".py",
   "mimetype": "text/x-python",
   "name": "python",
   "nbconvert_exporter": "python",
   "pygments_lexer": "ipython3",
   "version": "3.13.2"
  }
 },
 "nbformat": 4,
 "nbformat_minor": 5
}
