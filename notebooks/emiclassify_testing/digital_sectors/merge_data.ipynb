{
 "cells": [
  {
   "cell_type": "code",
   "execution_count": 1,
   "id": "e748cafa",
   "metadata": {},
   "outputs": [],
   "source": [
    "import os \n",
    "from dotenv import load_dotenv\n",
    "import pandas as pd"
   ]
  },
  {
   "cell_type": "code",
   "execution_count": null,
   "id": "1aab78ef",
   "metadata": {},
   "outputs": [
    {
     "name": "stdout",
     "output_type": "stream",
     "text": [
      "DATA_PATH: /Users/danielbivol/Library/CloudStorage/OneDrive-SharedLibraries-TechnopolisGroupLtd/4050 Monitoring industrial ecosystems - TGBE internal - Crunchbase/Merged databases\n"
     ]
    }
   ],
   "source": [
    "load_dotenv()\n",
    "DATA_PATH = os.getenv(\"DATA_DIR\")\n",
    "print(f\"DATA_PATH: {DATA_PATH}\")\n",
    "\n",
    "\n",
    "data_path_1 = os.path.join(DATA_PATH, 'digital_sectors_merge/EU_Digital_Sectors_20250604.xlsx') # type: ignore\n",
    "data_path_2 = os.path.join(DATA_PATH, 'cb_net0_companies_concat.csv')\n",
    "save_path = os.path.join(DATA_PATH, 'digital_sectors_merge/merged_data_digital_sectors.xlsx')"
   ]
  },
  {
   "cell_type": "code",
   "execution_count": 3,
   "id": "84b07d67",
   "metadata": {},
   "outputs": [
    {
     "name": "stderr",
     "output_type": "stream",
     "text": [
      "/var/folders/n_/lqcbvqkd6y16c5mx9m20q7zm0000gn/T/ipykernel_58165/4128084116.py:1: DtypeWarning: Columns (8,11,18,19) have mixed types. Specify dtype option on import or set low_memory=False.\n",
      "  df_full = pd.read_csv(data_path_2)\n"
     ]
    },
    {
     "name": "stdout",
     "output_type": "stream",
     "text": [
      "(4049929, 21) (2242, 7)\n"
     ]
    }
   ],
   "source": [
    "df_full = pd.read_csv(data_path_2)\n",
    "df_tech = pd.read_excel(data_path_1, sheet_name='Companies')\n",
    "print(df_full.shape, df_tech.shape)\n"
   ]
  },
  {
   "cell_type": "code",
   "execution_count": 4,
   "id": "a5bf89b1",
   "metadata": {},
   "outputs": [],
   "source": [
    "df_tech = df_tech.rename(columns={'crunchbase_url': 'cb_url'})\n",
    "df_tech = df_tech[df_tech['cb_url'].notna()]\n",
    "df_tech['cb_url'] = df_tech['cb_url'].astype(str)"
   ]
  },
  {
   "cell_type": "code",
   "execution_count": 5,
   "id": "9ef0f0b9",
   "metadata": {},
   "outputs": [],
   "source": [
    "df_tech['cb_url'] = (\n",
    "    df_tech['cb_url']\n",
    "    .astype(str)\n",
    "    .str.strip()\n",
    "    .str.lower()\n",
    "    .str.replace('https://', '', regex=False)\n",
    "    .str.replace('http://', '', regex=False)\n",
    "    .str.replace('www.', '', regex=False)\n",
    ")\n",
    "\n",
    "df_full['cb_url'] = (\n",
    "    df_full['cb_url']\n",
    "    .astype(str)\n",
    "    .str.strip()\n",
    "    .str.lower()\n",
    "    .str.replace('https://', '', regex=False)\n",
    "    .str.replace('http://', '', regex=False)\n",
    "    .str.replace('www.', '', regex=False)\n",
    ")"
   ]
  },
  {
   "cell_type": "code",
   "execution_count": 6,
   "id": "c5b18136",
   "metadata": {},
   "outputs": [],
   "source": [
    "\n",
    "df_full_reduced = (\n",
    "    df_full[['cb_url', 'email', 'phone']]\n",
    "    .drop_duplicates(subset='cb_url', keep='first')\n",
    ")\n",
    "df_tech = df_tech[df_tech['cb_url'].notna()]\n",
    "df_full_reduced = df_full_reduced[df_full_reduced['cb_url'].notna()]\n",
    "\n"
   ]
  },
  {
   "cell_type": "code",
   "execution_count": null,
   "id": "c29366f0",
   "metadata": {},
   "outputs": [
    {
     "name": "stdout",
     "output_type": "stream",
     "text": [
      "Merged count: 2191\n"
     ]
    }
   ],
   "source": [
    "\n",
    "df_merged = df_tech.merge(df_full_reduced, on='cb_url', how='inner')\n",
    "print(f\"Merged count: {len(df_merged)}\")\n",
    "print(\"df_tech rows:\", len(df_tech))\n",
    "print(\"Merged rows:\", len(df_merged))\n",
    "df_tech[~df_tech['cb_url'].isin(df_merged['cb_url'])]"
   ]
  },
  {
   "cell_type": "code",
   "execution_count": 9,
   "id": "8d712968",
   "metadata": {},
   "outputs": [],
   "source": [
    "df_merged.to_excel(save_path, index=False)"
   ]
  }
 ],
 "metadata": {
  "kernelspec": {
   "display_name": ".venv",
   "language": "python",
   "name": "python3"
  },
  "language_info": {
   "codemirror_mode": {
    "name": "ipython",
    "version": 3
   },
   "file_extension": ".py",
   "mimetype": "text/x-python",
   "name": "python",
   "nbconvert_exporter": "python",
   "pygments_lexer": "ipython3",
   "version": "3.13.2"
  }
 },
 "nbformat": 4,
 "nbformat_minor": 5
}
