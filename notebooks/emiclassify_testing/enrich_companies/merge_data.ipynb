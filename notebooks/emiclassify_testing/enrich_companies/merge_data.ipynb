{
 "cells": [
  {
   "cell_type": "code",
   "execution_count": 1,
   "id": "e748cafa",
   "metadata": {},
   "outputs": [],
   "source": [
    "import os \n",
    "from dotenv import load_dotenv\n",
    "import pandas as pd"
   ]
  },
  {
   "cell_type": "code",
   "execution_count": 2,
   "id": "1aab78ef",
   "metadata": {},
   "outputs": [
    {
     "name": "stdout",
     "output_type": "stream",
     "text": [
      "DATA_PATH: /Users/danielbivol/Library/CloudStorage/OneDrive-TechnopolisGroupLtd/Documents/data/CB_data\n",
      "FUNDING_PATH: /Users/danielbivol/Library/CloudStorage/OneDrive-SharedLibraries-TechnopolisGroupLtd/DSU one-stop shop - Crunchbase superusers - Feb2025\n"
     ]
    }
   ],
   "source": [
    "load_dotenv()\n",
    "\n",
    "\n",
    "DATA_PATH = os.getenv(\"DATA_DIR\")\n",
    "print(f\"DATA_PATH: {DATA_PATH}\")\n",
    "\n",
    "\n",
    "FUNDING_PATH = os.getenv(\"SHARE_POINT_DIR\")\n",
    "print(f\"FUNDING_PATH: {FUNDING_PATH}\")\n"
   ]
  },
  {
   "cell_type": "code",
   "execution_count": null,
   "id": "5671e12d",
   "metadata": {},
   "outputs": [],
   "source": [
    "funding_df = pd.read_csv(FUNDING_PATH + \"/funding_rounds.csv\")\n",
    "print(funding_df.columns.tolist())"
   ]
  },
  {
   "cell_type": "code",
   "execution_count": 3,
   "id": "84b07d67",
   "metadata": {},
   "outputs": [],
   "source": [
    "data_path = DATA_PATH + \"/PSE_Crunchbase.xlsx\"\n",
    "\n",
    "company_cols = [\n",
    "    'Organization Name', 'Organization Name URL', 'Founded Date', 'Founded Date Precision',\n",
    "    'Industries', 'Headquarters Location', 'Description', 'Total Patents',\n",
    "    'Full Description', 'Number of Employees'\n",
    "]\n",
    "company_df = pd.read_excel(data_path, header=1, usecols=company_cols)\n",
    "\n",
    "\n",
    "funding_cols = [\n",
    "    'org_uuid', 'org_name', 'lead_investor_uuids', 'uuid',\n",
    "    'investment_type', 'announced_on', 'raised_amount_usd', 'investor_count',\n",
    "    'raised_amount', 'raised_amount_currency_code', 'post_money_valuation_usd', 'post_money_valuation', 'post_money_valuation_currency_code'\n",
    "]\n",
    "funding_df = pd.read_csv(FUNDING_PATH + \"/funding_rounds.csv\", usecols=funding_cols)\n",
    "\n",
    "org_cols = ['uuid', 'cb_url']\n",
    "org_df = pd.read_csv(FUNDING_PATH + \"/organizations.csv\", usecols=org_cols)\n"
   ]
  },
  {
   "cell_type": "code",
   "execution_count": 6,
   "id": "e87946f9",
   "metadata": {},
   "outputs": [
    {
     "name": "stdout",
     "output_type": "stream",
     "text": [
      "Loaded 210 URLs from urls.txt\n",
      "Filtered funding_df shape: (17, 13)\n"
     ]
    }
   ],
   "source": [
    "with open(\"cb_urls.txt\", 'r') as file:\n",
    "    urls_list = [line.strip().lower() for line in file if line.strip()]\n",
    "\n",
    "print(f\"Loaded {len(urls_list)} URLs from urls.txt\")\n",
    "\n",
    "filtered_funding_df = funding_df[funding_df['org_uuid'].isin(\n",
    "    org_df[org_df['cb_url'].isin(urls_list)]['uuid']\n",
    ")]\n",
    "print(f\"Filtered funding_df shape: {filtered_funding_df.shape}\")"
   ]
  },
  {
   "cell_type": "code",
   "execution_count": 7,
   "id": "ecae2262",
   "metadata": {},
   "outputs": [],
   "source": [
    "funding_df = org_df.merge(\n",
    "    funding_df,\n",
    "    left_on='uuid',\n",
    "    right_on='org_uuid',\n",
    "    how='left',\n",
    ")"
   ]
  },
  {
   "cell_type": "code",
   "execution_count": 8,
   "id": "8c7bef4f",
   "metadata": {},
   "outputs": [
    {
     "name": "stdout",
     "output_type": "stream",
     "text": [
      "['Organization Name', 'Organization Name URL', 'Founded Date', 'Founded Date Precision', 'Industries', 'Headquarters Location', 'Description', 'Total Patents', 'Full Description', 'Number of Employees']\n",
      "['uuid_x', 'cb_url', 'uuid_y', 'investment_type', 'announced_on', 'raised_amount_usd', 'raised_amount', 'raised_amount_currency_code', 'post_money_valuation_usd', 'post_money_valuation', 'post_money_valuation_currency_code', 'investor_count', 'org_uuid', 'org_name', 'lead_investor_uuids']\n"
     ]
    }
   ],
   "source": [
    "print(company_df.columns.to_list())\n",
    "print(funding_df.columns.to_list())\n"
   ]
  },
  {
   "cell_type": "code",
   "execution_count": 9,
   "id": "c5b18136",
   "metadata": {},
   "outputs": [],
   "source": [
    "funding_df['cb_url'] = (\n",
    "    funding_df['cb_url']\n",
    "    .astype(str)\n",
    "    .str.strip()\n",
    "    .str.lower()\n",
    ")\n",
    "\n",
    "company_df['Organization Name URL'] = (\n",
    "    company_df['Organization Name URL']\n",
    "    .astype(str)\n",
    "    .str.strip()\n",
    "    .str.lower()\n",
    ")\n"
   ]
  },
  {
   "cell_type": "code",
   "execution_count": 10,
   "id": "7c0589da",
   "metadata": {},
   "outputs": [],
   "source": [
    "funding_df = funding_df.dropna(subset=['cb_url'])\n",
    "funding_df = funding_df.rename(columns={'cb_url': 'Organization Name URL'})\n"
   ]
  },
  {
   "cell_type": "code",
   "execution_count": 11,
   "id": "c29366f0",
   "metadata": {},
   "outputs": [
    {
     "name": "stdout",
     "output_type": "stream",
     "text": [
      "(216, 24)\n"
     ]
    }
   ],
   "source": [
    "df_merged = company_df.merge(\n",
    "    funding_df,\n",
    "    on='Organization Name URL',\n",
    "    how='left'\n",
    ")\n",
    "\n",
    "print(df_merged.shape)"
   ]
  },
  {
   "cell_type": "code",
   "execution_count": 13,
   "id": "b428c626",
   "metadata": {},
   "outputs": [
    {
     "name": "stdout",
     "output_type": "stream",
     "text": [
      "Merged count: 216\n",
      "company_df rows: 208\n",
      "Merged rows: 216\n"
     ]
    }
   ],
   "source": [
    "print(f\"Merged count: {len(df_merged)}\")\n",
    "print(\"company_df rows:\", len(company_df))\n",
    "print(\"Merged rows:\", len(df_merged))\n",
    "\n",
    "df_merged = df_merged.drop(\n",
    "    ['uuid_x', 'org_name', 'lead_investor_uuids'],\n",
    "    axis=1\n",
    ")"
   ]
  },
  {
   "cell_type": "code",
   "execution_count": 14,
   "id": "8d712968",
   "metadata": {},
   "outputs": [],
   "source": [
    "save_path = DATA_PATH + \"/PSE_Crunchbase_enriched.xlsx\"\n",
    "\n",
    "df_merged.to_excel(save_path, index=False)"
   ]
  },
  {
   "cell_type": "code",
   "execution_count": null,
   "id": "b9dd1e1e",
   "metadata": {},
   "outputs": [],
   "source": []
  }
 ],
 "metadata": {
  "kernelspec": {
   "display_name": ".venv",
   "language": "python",
   "name": "python3"
  },
  "language_info": {
   "codemirror_mode": {
    "name": "ipython",
    "version": 3
   },
   "file_extension": ".py",
   "mimetype": "text/x-python",
   "name": "python",
   "nbconvert_exporter": "python",
   "pygments_lexer": "ipython3",
   "version": "3.13.2"
  }
 },
 "nbformat": 4,
 "nbformat_minor": 5
}
