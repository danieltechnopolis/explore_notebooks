{
 "cells": [
  {
   "cell_type": "code",
   "execution_count": 1,
   "id": "c7466f0f",
   "metadata": {},
   "outputs": [],
   "source": [
    "import os\n",
    "import pandas as pd\n"
   ]
  },
  {
   "cell_type": "code",
   "execution_count": 2,
   "id": "13fdc617",
   "metadata": {},
   "outputs": [],
   "source": [
    "data_path_electornics='/Users/danielbivol/Library/CloudStorage/OneDrive-SharedLibraries-TechnopolisGroupLtd/4050 Monitoring industrial ecosystems - TGBE internal - Crunchbase/Merged databases/Microelectronics_Sample.xlsx'\n",
    "data_path_random='/Users/danielbivol/Library/CloudStorage/OneDrive-SharedLibraries-TechnopolisGroupLtd/4050 Monitoring industrial ecosystems - TGBE internal - Crunchbase/Merged databases/Additional_missing.csv'\n",
    "merged_data_path='/Users/danielbivol/Library/CloudStorage/OneDrive-SharedLibraries-TechnopolisGroupLtd/4050 Monitoring industrial ecosystems - TGBE internal - Crunchbase/Merged databases/cb_net0_companies_concat_eu27_final.csv'"
   ]
  },
  {
   "cell_type": "code",
   "execution_count": 3,
   "id": "6a6398d8",
   "metadata": {},
   "outputs": [
    {
     "name": "stderr",
     "output_type": "stream",
     "text": [
      "/var/folders/n_/lqcbvqkd6y16c5mx9m20q7zm0000gn/T/ipykernel_18892/3280342024.py:2: DtypeWarning: Columns (1,9,12,21,22) have mixed types. Specify dtype option on import or set low_memory=False.\n",
      "  cb_net0_df = pd.read_csv(merged_data_path)\n"
     ]
    }
   ],
   "source": [
    "df_electronics = pd.read_excel(data_path_electornics)\n",
    "cb_net0_df = pd.read_csv(merged_data_path)\n",
    "df_random_sample = cb_net0_df.sample(n=184, random_state=42).reset_index(drop=True)\n"
   ]
  },
  {
   "cell_type": "code",
   "execution_count": 4,
   "id": "08f6fbd5",
   "metadata": {},
   "outputs": [],
   "source": [
    "\n",
    "df_electronics = df_electronics.rename(columns={\n",
    "    'crunchbase_url': 'cb_url'\n",
    "    \n",
    "})\n",
    "\n",
    "df_electronics['y_true'] = 1\n",
    "df_electronics['y_true'] = df_electronics['y_true'].astype(int)\n",
    "\n",
    "df_electronics = df_electronics[['id_organization','y_true', 'cb_url']].reset_index(drop = True)\n",
    "\n",
    "df_electronics =df_electronics.convert_dtypes()\n",
    "cb_net0_df = cb_net0_df.convert_dtypes()\n",
    "\n",
    "df_electronics['cb_url'] = df_electronics['cb_url'].astype(str)\n",
    "df_electronics['cb_url'] = df_electronics['cb_url'].astype(str)\n",
    "\n",
    "df_electronics = df_electronics.merge(cb_net0_df, on='cb_url', how='inner')\n",
    "\n",
    "df_electronics = df_electronics[['org_ID', 'organisation_name','short_description', 'description', 'y_true']]\n",
    "df_electronics['org_ID'] = df_electronics['org_ID'].astype(str)\n",
    "\n",
    "\n"
   ]
  },
  {
   "cell_type": "code",
   "execution_count": 6,
   "id": "75890e42",
   "metadata": {},
   "outputs": [],
   "source": [
    "\n",
    "df_random_sample['y_true'] = 0\n",
    "\n",
    "df_random_clean = df_random_sample[['org_ID', 'organisation_name','short_description', 'description', 'y_true']]\\\n",
    "    .reset_index(drop = True)\n",
    "\n",
    "df_random_clean = df_random_clean.convert_dtypes()\n",
    "\n",
    "df_random_clean['org_ID'] = df_random_clean['org_ID'].astype(str)\n",
    "\n",
    "df_random_clean['y_true'] = df_random_clean['y_true'].astype(int)\n",
    "\n",
    "\n"
   ]
  },
  {
   "cell_type": "code",
   "execution_count": null,
   "id": "00a07a44",
   "metadata": {},
   "outputs": [],
   "source": [
    "test_df = pd.concat([df_electronics, df_random_clean], axis=0, ignore_index=True)\n",
    "test_df = test_df.drop_duplicates(subset=['org_ID'])\n",
    "test_df.to_csv('microelectronics_validation.csv', index=False)"
   ]
  }
 ],
 "metadata": {
  "kernelspec": {
   "display_name": ".venv",
   "language": "python",
   "name": "python3"
  },
  "language_info": {
   "codemirror_mode": {
    "name": "ipython",
    "version": 3
   },
   "file_extension": ".py",
   "mimetype": "text/x-python",
   "name": "python",
   "nbconvert_exporter": "python",
   "pygments_lexer": "ipython3",
   "version": "3.13.2"
  }
 },
 "nbformat": 4,
 "nbformat_minor": 5
}
